{
 "cells": [
  {
   "cell_type": "markdown",
   "metadata": {},
   "source": [
    "## 1. Bitcoin Market Description and Data Loading"
   ]
  },
  {
   "cell_type": "markdown",
   "metadata": {},
   "source": [
    "<p>*<sup>1</sup> <strong>WARNING</strong>: The cryptocurrency market is exceptionally volatile and any money you put in might disappear into thin air.  Cryptocurrencies mentioned here <strong>might be scams</strong> similar to <a href=\"https://en.wikipedia.org/wiki/Ponzi_scheme\">Ponzi Schemes</a> or have many other issues (overvaluation, technical, etc.). <strong>Please do not mistake this for investment advice</strong>. *</p>\n",
    "<p>That said, let's get to business. As a first task, we will load the current data from the <a href=\"https://api.coinmarketcap.com\">coinmarketcap API</a> and display it in the output.</p>"
   ]
  },
  {
   "cell_type": "code",
   "execution_count": 4,
   "metadata": {},
   "outputs": [
    {
     "data": {
      "text/html": [
       "<div>\n",
       "<style scoped>\n",
       "    .dataframe tbody tr th:only-of-type {\n",
       "        vertical-align: middle;\n",
       "    }\n",
       "\n",
       "    .dataframe tbody tr th {\n",
       "        vertical-align: top;\n",
       "    }\n",
       "\n",
       "    .dataframe thead th {\n",
       "        text-align: right;\n",
       "    }\n",
       "</style>\n",
       "<table border=\"1\" class=\"dataframe\">\n",
       "  <thead>\n",
       "    <tr style=\"text-align: right;\">\n",
       "      <th></th>\n",
       "      <th>24h_volume_usd</th>\n",
       "      <th>available_supply</th>\n",
       "      <th>id</th>\n",
       "      <th>last_updated</th>\n",
       "      <th>market_cap_usd</th>\n",
       "      <th>max_supply</th>\n",
       "      <th>name</th>\n",
       "      <th>percent_change_1h</th>\n",
       "      <th>percent_change_24h</th>\n",
       "      <th>percent_change_7d</th>\n",
       "      <th>price_btc</th>\n",
       "      <th>price_usd</th>\n",
       "      <th>rank</th>\n",
       "      <th>symbol</th>\n",
       "      <th>total_supply</th>\n",
       "    </tr>\n",
       "  </thead>\n",
       "  <tbody>\n",
       "    <tr>\n",
       "      <th>0</th>\n",
       "      <td>1.443987e+10</td>\n",
       "      <td>17962412</td>\n",
       "      <td>bitcoin</td>\n",
       "      <td>1569684155</td>\n",
       "      <td>146065509080</td>\n",
       "      <td>2.100000e+07</td>\n",
       "      <td>Bitcoin</td>\n",
       "      <td>-0.58</td>\n",
       "      <td>1.10</td>\n",
       "      <td>-19.01</td>\n",
       "      <td>1.000000</td>\n",
       "      <td>8131.731367</td>\n",
       "      <td>1</td>\n",
       "      <td>BTC</td>\n",
       "      <td>17962412</td>\n",
       "    </tr>\n",
       "    <tr>\n",
       "      <th>1</th>\n",
       "      <td>7.258250e+09</td>\n",
       "      <td>107928940</td>\n",
       "      <td>ethereum</td>\n",
       "      <td>1569684142</td>\n",
       "      <td>18481855062</td>\n",
       "      <td>NaN</td>\n",
       "      <td>Ethereum</td>\n",
       "      <td>-1.32</td>\n",
       "      <td>3.32</td>\n",
       "      <td>-20.85</td>\n",
       "      <td>0.021075</td>\n",
       "      <td>171.240957</td>\n",
       "      <td>2</td>\n",
       "      <td>ETH</td>\n",
       "      <td>107928940</td>\n",
       "    </tr>\n",
       "    <tr>\n",
       "      <th>2</th>\n",
       "      <td>1.021672e+09</td>\n",
       "      <td>43080011224</td>\n",
       "      <td>ripple</td>\n",
       "      <td>1569684123</td>\n",
       "      <td>10407864302</td>\n",
       "      <td>1.000000e+11</td>\n",
       "      <td>XRP</td>\n",
       "      <td>-0.33</td>\n",
       "      <td>0.94</td>\n",
       "      <td>-16.77</td>\n",
       "      <td>0.000030</td>\n",
       "      <td>0.241594</td>\n",
       "      <td>3</td>\n",
       "      <td>XRP</td>\n",
       "      <td>99991343356</td>\n",
       "    </tr>\n",
       "    <tr>\n",
       "      <th>3</th>\n",
       "      <td>1.755991e+10</td>\n",
       "      <td>4108044456</td>\n",
       "      <td>tether</td>\n",
       "      <td>1569684136</td>\n",
       "      <td>4159482565</td>\n",
       "      <td>NaN</td>\n",
       "      <td>Tether</td>\n",
       "      <td>0.24</td>\n",
       "      <td>0.59</td>\n",
       "      <td>0.97</td>\n",
       "      <td>0.000125</td>\n",
       "      <td>1.012521</td>\n",
       "      <td>4</td>\n",
       "      <td>USDT</td>\n",
       "      <td>4207771504</td>\n",
       "    </tr>\n",
       "    <tr>\n",
       "      <th>4</th>\n",
       "      <td>1.638283e+09</td>\n",
       "      <td>18027950</td>\n",
       "      <td>bitcoin-cash</td>\n",
       "      <td>1569684127</td>\n",
       "      <td>4000434581</td>\n",
       "      <td>2.100000e+07</td>\n",
       "      <td>Bitcoin Cash</td>\n",
       "      <td>-0.30</td>\n",
       "      <td>3.23</td>\n",
       "      <td>-28.95</td>\n",
       "      <td>0.027310</td>\n",
       "      <td>221.901801</td>\n",
       "      <td>5</td>\n",
       "      <td>BCH</td>\n",
       "      <td>18027950</td>\n",
       "    </tr>\n",
       "  </tbody>\n",
       "</table>\n",
       "</div>"
      ],
      "text/plain": [
       "   24h_volume_usd  available_supply            id  last_updated  \\\n",
       "0    1.443987e+10          17962412       bitcoin    1569684155   \n",
       "1    7.258250e+09         107928940      ethereum    1569684142   \n",
       "2    1.021672e+09       43080011224        ripple    1569684123   \n",
       "3    1.755991e+10        4108044456        tether    1569684136   \n",
       "4    1.638283e+09          18027950  bitcoin-cash    1569684127   \n",
       "\n",
       "   market_cap_usd    max_supply          name  percent_change_1h  \\\n",
       "0    146065509080  2.100000e+07       Bitcoin              -0.58   \n",
       "1     18481855062           NaN      Ethereum              -1.32   \n",
       "2     10407864302  1.000000e+11           XRP              -0.33   \n",
       "3      4159482565           NaN        Tether               0.24   \n",
       "4      4000434581  2.100000e+07  Bitcoin Cash              -0.30   \n",
       "\n",
       "   percent_change_24h  percent_change_7d  price_btc    price_usd  rank symbol  \\\n",
       "0                1.10             -19.01   1.000000  8131.731367     1    BTC   \n",
       "1                3.32             -20.85   0.021075   171.240957     2    ETH   \n",
       "2                0.94             -16.77   0.000030     0.241594     3    XRP   \n",
       "3                0.59               0.97   0.000125     1.012521     4   USDT   \n",
       "4                3.23             -28.95   0.027310   221.901801     5    BCH   \n",
       "\n",
       "   total_supply  \n",
       "0      17962412  \n",
       "1     107928940  \n",
       "2   99991343356  \n",
       "3    4207771504  \n",
       "4      18027950  "
      ]
     },
     "execution_count": 4,
     "metadata": {},
     "output_type": "execute_result"
    }
   ],
   "source": [
    "#Importing pandas\n",
    "import pandas as pd\n",
    "\n",
    "#Import matplotlib and setting asthetics for plotting later.\n",
    "import matplotlib.pyplot as plt\n",
    "%matplotlib inline\n",
    "%config InlineBackend.figure_format = 'svg'\n",
    "plt.style.use('fivethirtyeight')\n",
    "\n",
    "#Reading in current data from coinmarketcap.com\n",
    "current = pd.read_json(\"https://api.coinmarketcap.com/v1/ticker/\")\n",
    "\n",
    "#Printing out the first few lines\n",
    "current.head()\n"
   ]
  },
  {
   "cell_type": "markdown",
   "metadata": {},
   "source": [
    "## 2. Full dataset, filtering, and reproducibility\n",
    "THe previous API call returns only the first 100 coins, and we want to explore as many coins as possible. Moreover, we can't produce reproducible analysis with live online data. To solve the problems, we will laod a CSV we conviently saved on the 6th of December of 2017 using the API call."
   ]
  },
  {
   "cell_type": "code",
   "execution_count": 12,
   "metadata": {},
   "outputs": [
    {
     "data": {
      "text/plain": [
       "id                1326\n",
       "market_cap_usd    1031\n",
       "dtype: int64"
      ]
     },
     "execution_count": 12,
     "metadata": {},
     "output_type": "execute_result"
    }
   ],
   "source": [
    "#Reading datasets/coinmarketcap_oI 6112017.csv into pandas\n",
    "dec6 = pd.read_csv(\"datasets/coinmarketcap_06122017.csv\")\n",
    "\n",
    "#Selecting the 'id' and the 'market_cap_usd' columns\n",
    "market_cap_raw = dec6[['id','market_cap_usd']]\n",
    "\n",
    "#counting the number of values\n",
    "market_cap_raw.count()"
   ]
  },
  {
   "cell_type": "code",
   "execution_count": null,
   "metadata": {},
   "outputs": [],
   "source": [
    "\n",
    "\n",
    "\n"
   ]
  },
  {
   "cell_type": "code",
   "execution_count": null,
   "metadata": {},
   "outputs": [],
   "source": [
    "\n"
   ]
  },
  {
   "cell_type": "code",
   "execution_count": null,
   "metadata": {},
   "outputs": [],
   "source": [
    "\n"
   ]
  },
  {
   "cell_type": "code",
   "execution_count": null,
   "metadata": {},
   "outputs": [],
   "source": []
  },
  {
   "cell_type": "code",
   "execution_count": null,
   "metadata": {},
   "outputs": [],
   "source": []
  }
 ],
 "metadata": {
  "kernelspec": {
   "display_name": "Python 3",
   "language": "python",
   "name": "python3"
  },
  "language_info": {
   "codemirror_mode": {
    "name": "ipython",
    "version": 3
   },
   "file_extension": ".py",
   "mimetype": "text/x-python",
   "name": "python",
   "nbconvert_exporter": "python",
   "pygments_lexer": "ipython3",
   "version": "3.7.1"
  }
 },
 "nbformat": 4,
 "nbformat_minor": 2
}
